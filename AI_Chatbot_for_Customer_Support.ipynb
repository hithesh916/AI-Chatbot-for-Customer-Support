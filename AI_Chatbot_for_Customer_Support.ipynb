{
  "nbformat": 4,
  "nbformat_minor": 0,
  "metadata": {
    "colab": {
      "provenance": [],
      "authorship_tag": "ABX9TyMZmrI2kzvtwWixk2M5UpU6",
      "include_colab_link": true
    },
    "kernelspec": {
      "name": "python3",
      "display_name": "Python 3"
    },
    "language_info": {
      "name": "python"
    }
  },
  "cells": [
    {
      "cell_type": "markdown",
      "metadata": {
        "id": "view-in-github",
        "colab_type": "text"
      },
      "source": [
        "<a href=\"https://colab.research.google.com/github/hithesh916/AI-Chatbot-for-Customer-Support/blob/main/AI_Chatbot_for_Customer_Support.ipynb\" target=\"_parent\"><img src=\"https://colab.research.google.com/assets/colab-badge.svg\" alt=\"Open In Colab\"/></a>"
      ]
    },
    {
      "cell_type": "code",
      "execution_count": 1,
      "metadata": {
        "id": "QEix6x9LuJ3k"
      },
      "outputs": [],
      "source": [
        "!pip install gradio --quiet\n"
      ]
    },
    {
      "cell_type": "markdown",
      "source": [
        "the Chatbot Logic"
      ],
      "metadata": {
        "id": "TShDouxJucMB"
      }
    },
    {
      "cell_type": "code",
      "source": [
        "import gradio as gr\n",
        "import re\n",
        "\n",
        "# Rule-based chatbot function\n",
        "def chatbot(user_input):\n",
        "    user_input = user_input.lower()\n",
        "\n",
        "    # FAQ patterns using regular expressions\n",
        "    faq_patterns = {\n",
        "        r\"(hi|hello|hey)\": \"Hello! How can I help you today?\",\n",
        "        r\"(refund|money back)\": \"You can request a refund within 7 days of purchase.\",\n",
        "        r\"(shipping|delivery)\": \"We usually deliver products within 3–5 business days.\",\n",
        "        r\"(cancel.*order)\": \"To cancel your order, go to 'My Orders' and click 'Cancel'.\",\n",
        "        r\"(payment.*fail|failed)\": \"If your payment failed, try a different method or contact support.\",\n",
        "        r\"(support|contact)\": \"You can reach our support team at support@example.com\",\n",
        "        r\"(thank.*you|thanks)\": \"You're welcome! Let me know if you need anything else.\",\n",
        "        r\"(return.*policy)\": \"Our return policy allows returns within 15 days of delivery.\"\n",
        "    }\n",
        "\n",
        "    for pattern, response in faq_patterns.items():\n",
        "        if re.search(pattern, user_input):\n",
        "            return response\n",
        "\n",
        "    return \"I'm sorry, I didn't understand that. Please rephrase or contact support.\"\n",
        "\n",
        "# Gradio interface\n",
        "iface = gr.Interface(fn=chatbot,\n",
        "                     inputs=\"text\",\n",
        "                     outputs=\"text\",\n",
        "                     title=\"Customer Support Chatbot\",\n",
        "                     description=\"Ask me about refunds, shipping, cancellations, and more.\")\n",
        "\n",
        "iface.launch(debug=True)\n"
      ],
      "metadata": {
        "colab": {
          "base_uri": "https://localhost:8080/",
          "height": 643
        },
        "id": "_nbtOtL1uc4L",
        "outputId": "fcda37e0-1b86-4705-953e-057a15f914e8"
      },
      "execution_count": null,
      "outputs": [
        {
          "output_type": "stream",
          "name": "stdout",
          "text": [
            "It looks like you are running Gradio on a hosted a Jupyter notebook. For the Gradio app to work, sharing must be enabled. Automatically setting `share=True` (you can turn this off by setting `share=False` in `launch()` explicitly).\n",
            "\n",
            "Colab notebook detected. This cell will run indefinitely so that you can see errors and logs. To turn off, set debug=False in launch().\n",
            "* Running on public URL: https://02042e797cfb458dfe.gradio.live\n",
            "\n",
            "This share link expires in 1 week. For free permanent hosting and GPU upgrades, run `gradio deploy` from the terminal in the working directory to deploy to Hugging Face Spaces (https://huggingface.co/spaces)\n"
          ]
        },
        {
          "output_type": "display_data",
          "data": {
            "text/plain": [
              "<IPython.core.display.HTML object>"
            ],
            "text/html": [
              "<div><iframe src=\"https://02042e797cfb458dfe.gradio.live\" width=\"100%\" height=\"500\" allow=\"autoplay; camera; microphone; clipboard-read; clipboard-write;\" frameborder=\"0\" allowfullscreen></iframe></div>"
            ]
          },
          "metadata": {}
        },
        {
          "output_type": "stream",
          "name": "stdout",
          "text": [
            "Created dataset file at: .gradio/flagged/dataset1.csv\n"
          ]
        }
      ]
    }
  ]
}